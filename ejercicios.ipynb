{
 "cells": [
  {
   "cell_type": "markdown",
   "metadata": {},
   "source": [
    "1. Crear un programa que muestre por pantalla el texto ¡Hola Mundo!.\n"
   ]
  },
  {
   "cell_type": "code",
   "execution_count": 1,
   "metadata": {},
   "outputs": [
    {
     "name": "stdout",
     "output_type": "stream",
     "text": [
      "Hola mundo\n"
     ]
    }
   ],
   "source": [
    "print(\"Hola mundo\")"
   ]
  },
  {
   "cell_type": "markdown",
   "metadata": {},
   "source": [
    "2. Crear un programa que almacene el texto ¡Hola Mundo! en una variable y luego\n",
    "imprima dicho contenido por pantalla."
   ]
  },
  {
   "cell_type": "code",
   "execution_count": 2,
   "metadata": {},
   "outputs": [
    {
     "name": "stdout",
     "output_type": "stream",
     "text": [
      "Hola mundo\n"
     ]
    }
   ],
   "source": [
    "hola_mundo = \"Hola mundo\"\n",
    "print(hola_mundo)"
   ]
  },
  {
   "cell_type": "markdown",
   "metadata": {},
   "source": [
    "3. Crear un programa que pregunte el nombre del usuario y después de que el\n",
    "usuario lo introduzca muestre por pantalla la cadena ¡Hola <nombre>!, donde\n",
    "<nombre> es el nombre que el usuario haya introducido."
   ]
  },
  {
   "cell_type": "code",
   "execution_count": 3,
   "metadata": {},
   "outputs": [
    {
     "name": "stdout",
     "output_type": "stream",
     "text": [
      "Hola mily\n"
     ]
    }
   ],
   "source": [
    "nombre = input(\"Ingrese su nombre\")\n",
    "print(f\"Hola {nombre}\")"
   ]
  },
  {
   "cell_type": "markdown",
   "metadata": {},
   "source": [
    "4. Crear un programa que pida al usuario dos números enteros y muestre por\n",
    "pantalla la división de <n> entre <m> da un cociente <c> y un resto <r> donde\n",
    "<n> y <m> son los números introducidos por el usuario, y <c> y <r> son el\n",
    "cociente y el resto de la división entera respectivamente.\n"
   ]
  },
  {
   "cell_type": "code",
   "execution_count": 4,
   "metadata": {},
   "outputs": [
    {
     "name": "stdout",
     "output_type": "stream",
     "text": [
      "La division de 10 en 2 da un cociente 5 y un resto 0\n"
     ]
    }
   ],
   "source": [
    "numero_1 = int(input(\"Ingrese un numero: \"))\n",
    "numero_2 = int(input(\"Ingrese otro numero: \"))\n",
    "\n",
    "cociente = numero_1 // numero_2\n",
    "resto = numero_1 % numero_2\n",
    "\n",
    "print(f\"La division de {numero_1} en {numero_2} da un cociente {cociente} y un resto {resto}\")"
   ]
  },
  {
   "cell_type": "markdown",
   "metadata": {},
   "source": [
    "5. Una juguetería tiene mucho éxito en dos de sus productos: payasos y muñecas.\n",
    "Suele hacer venta por correo y la empresa de logística les cobra por peso de\n",
    "cada paquete así que deben calcular el peso de los payasos y muñecas que\n",
    "saldrán en cada paquete a demanda. Cada payaso pesa 112 g y cada muñeca 75 g.\n",
    "Escribir un programa que lea el número de payasos y muñecas vendidos en el\n",
    "último pedido y calcule el peso total del paquete que será enviado.\n"
   ]
  },
  {
   "cell_type": "code",
   "execution_count": 5,
   "metadata": {},
   "outputs": [
    {
     "name": "stdout",
     "output_type": "stream",
     "text": [
      "El peso total del paquete es de 524 gramos\n"
     ]
    }
   ],
   "source": [
    "peso_payaso = 112 #gramos\n",
    "peso_muñeca = 75 #gramos\n",
    "\n",
    "cantidad_payasos = int(input(\"Ingrese la cantidad de payasos: \"))\n",
    "cantidad_muñecas = int(input(\"Ingrese la cantidad de muñecas: \"))\n",
    "\n",
    "peso_total_paquete = cantidad_payasos * peso_payaso + cantidad_muñecas * peso_muñeca\n",
    "\n",
    "if peso_total_paquete < 1000:\n",
    "    print(f\"El peso total del paquete es de {peso_total_paquete} gramos\")\n",
    "else:\n",
    "    peso_total_paquete /= 1000\n",
    "    print(f\"El peso total del paquete es de {peso_total_paquete} kgs\")"
   ]
  },
  {
   "cell_type": "markdown",
   "metadata": {},
   "source": [
    "6. Crear un programa que pregunte el nombre del usuario en la consola y después\n",
    "de que el usuario lo introduzca muestre por pantalla <nombre> tiene <n>\n",
    "letras, donde <nombre> es el nombre de usuario y <n> es el número de letras\n",
    "que tienen el nombre."
   ]
  },
  {
   "cell_type": "code",
   "execution_count": 12,
   "metadata": {},
   "outputs": [
    {
     "name": "stdout",
     "output_type": "stream",
     "text": [
      "milagros tiene 8 letras\n"
     ]
    }
   ],
   "source": [
    "nombre = input(\"Ingrese su nombre: \")\n",
    "##cantidad_letras = 0\n",
    "cantidad_letras = len(nombre)\n",
    "\n",
    "\n",
    "print(f\"{nombre} tiene {cantidad_letras} letras\")"
   ]
  },
  {
   "cell_type": "code",
   "execution_count": 6,
   "metadata": {},
   "outputs": [
    {
     "name": "stdout",
     "output_type": "stream",
     "text": [
      "milagros tiene 8 letras\n"
     ]
    }
   ],
   "source": [
    "nombre = input(\"Ingrese su nombre: \")\n",
    "cantidad_letras = 0\n",
    "\n",
    "for letra in nombre:\n",
    "    cantidad_letras += 1\n",
    "\n",
    "print(f\"{nombre} tiene {cantidad_letras} letras\")"
   ]
  },
  {
   "cell_type": "markdown",
   "metadata": {},
   "source": [
    "7. Crear un programa que pida al usuario que introduzca una frase y una letra y\n",
    "muestre por pantalla cuántas veces aparece dicha letra en la frase.\n"
   ]
  },
  {
   "cell_type": "code",
   "execution_count": 9,
   "metadata": {},
   "outputs": [
    {
     "name": "stdout",
     "output_type": "stream",
     "text": [
      "hoy estamos haciendo ejercicios\n",
      "La letra o est+a 4 veces en la frase\n"
     ]
    }
   ],
   "source": [
    "frase = input(\"Ingrese una frase: \")\n",
    "letra = input(\"Ingrese una letra: \")\n",
    "\n",
    "cant_letra_frase = 0\n",
    "\n",
    "for caracter in frase:\n",
    "    if caracter == letra:\n",
    "        cant_letra_frase += 1\n",
    "\n",
    "print(frase)\n",
    "print(f\"La letra {letra} esta {cant_letra_frase} veces en la frase\")"
   ]
  },
  {
   "cell_type": "code",
   "execution_count": 11,
   "metadata": {},
   "outputs": [
    {
     "name": "stdout",
     "output_type": "stream",
     "text": [
      "hoy estamos haciendo ejercicios\n",
      "La letra o esta 4 veces en la frase\n"
     ]
    }
   ],
   "source": [
    "frase = input(\"Ingrese una frase: \")\n",
    "letra = input(\"Ingrese una letra: \")\n",
    "\n",
    "cant_letra_frase = frase.count(letra)\n",
    "\n",
    "\n",
    "print(frase)\n",
    "print(f\"La letra {letra} esta {cant_letra_frase} veces en la frase\")"
   ]
  },
  {
   "cell_type": "markdown",
   "metadata": {},
   "source": [
    "8. Crear un programa que pregunte al usuario su edad y muestre por pantalla si es\n",
    "mayor de edad o no."
   ]
  },
  {
   "cell_type": "code",
   "execution_count": 14,
   "metadata": {},
   "outputs": [
    {
     "name": "stdout",
     "output_type": "stream",
     "text": [
      "Es menos de edad\n"
     ]
    }
   ],
   "source": [
    "edad = int(input(\"Ingrese su edad: \"))\n",
    "\n",
    "if edad >= 18:\n",
    "    print(\"Es mayor de edad\")\n",
    "else:\n",
    "    print(\"Es menos de edad\")"
   ]
  },
  {
   "cell_type": "markdown",
   "metadata": {},
   "source": [
    "9. Crear un programa que pida al usuario un número entero y muestre por\n",
    "pantalla si es par o impar.\n"
   ]
  },
  {
   "cell_type": "code",
   "execution_count": 16,
   "metadata": {},
   "outputs": [
    {
     "name": "stdout",
     "output_type": "stream",
     "text": [
      "2 es par\n"
     ]
    }
   ],
   "source": [
    "numero = int(input(\"Ingrese un numero: \"))\n",
    "\n",
    "if numero % 2 == 0:\n",
    "    print(f\"{numero} es par\")\n",
    "else:\n",
    "    print(f\"{numero} es impar\")"
   ]
  },
  {
   "cell_type": "markdown",
   "metadata": {},
   "source": [
    "10. Crear un programa que pida al usuario una palabra y la muestre por pantalla 10\n",
    "veces."
   ]
  },
  {
   "cell_type": "code",
   "execution_count": 19,
   "metadata": {},
   "outputs": [
    {
     "name": "stdout",
     "output_type": "stream",
     "text": [
      "hola\n",
      " hola\n",
      " hola\n",
      " hola\n",
      " hola\n",
      " hola\n",
      " hola\n",
      " hola\n",
      " hola\n",
      " hola\n",
      " \n"
     ]
    }
   ],
   "source": [
    "palabra = input(\"Ingrese una palabra: \")\n",
    "\n",
    "print(f\"{palabra}\\n \"* 10)"
   ]
  },
  {
   "cell_type": "code",
   "execution_count": null,
   "metadata": {},
   "outputs": [],
   "source": [
    "\n",
    "numero = int(input(\"Ingrese un numero: \"))\n",
    "\n",
    "for i in range(numero):\n",
    "    print(palabra)"
   ]
  },
  {
   "cell_type": "markdown",
   "metadata": {},
   "source": [
    "12. Crear un programa que pregunte al usuario su edad y muestre por pantalla\n",
    "todos los años que ha cumplido (desde 1 hasta su edad)."
   ]
  },
  {
   "cell_type": "code",
   "execution_count": 20,
   "metadata": {},
   "outputs": [
    {
     "name": "stdout",
     "output_type": "stream",
     "text": [
      "ha cumplido 1\n",
      "ha cumplido 2\n",
      "ha cumplido 3\n",
      "ha cumplido 4\n",
      "ha cumplido 5\n",
      "ha cumplido 6\n",
      "ha cumplido 7\n",
      "ha cumplido 8\n",
      "ha cumplido 9\n",
      "ha cumplido 10\n",
      "ha cumplido 11\n",
      "ha cumplido 12\n",
      "ha cumplido 13\n",
      "ha cumplido 14\n",
      "ha cumplido 15\n",
      "ha cumplido 16\n",
      "ha cumplido 17\n",
      "ha cumplido 18\n",
      "ha cumplido 19\n",
      "ha cumplido 20\n",
      "ha cumplido 21\n",
      "ha cumplido 22\n",
      "ha cumplido 23\n",
      "ha cumplido 24\n",
      "ha cumplido 25\n",
      "ha cumplido 26\n",
      "ha cumplido 27\n",
      "ha cumplido 28\n",
      "ha cumplido 29\n"
     ]
    }
   ],
   "source": [
    "edad = int(input(\"Ingrese su edad: \"))\n",
    "\n",
    "for i in range(1, edad+1):\n",
    "    print(f\"ha cumplido {i}\")"
   ]
  },
  {
   "cell_type": "markdown",
   "metadata": {},
   "source": [
    "13. Crear un programa que muestre por pantalla la tabla de multiplicar del 1 al 10.\n",
    "Pista: va un for dentro de otro for.\n"
   ]
  },
  {
   "cell_type": "code",
   "execution_count": 21,
   "metadata": {},
   "outputs": [
    {
     "name": "stdout",
     "output_type": "stream",
     "text": [
      "tabla de multiplicar de 1\n",
      "1x0 = 0\n",
      "1x1 = 1\n",
      "1x2 = 2\n",
      "1x3 = 3\n",
      "1x4 = 4\n",
      "1x5 = 5\n",
      "1x6 = 6\n",
      "1x7 = 7\n",
      "1x8 = 8\n",
      "1x9 = 9\n",
      "tabla de multiplicar de 2\n",
      "2x0 = 0\n",
      "2x1 = 2\n",
      "2x2 = 4\n",
      "2x3 = 6\n",
      "2x4 = 8\n",
      "2x5 = 10\n",
      "2x6 = 12\n",
      "2x7 = 14\n",
      "2x8 = 16\n",
      "2x9 = 18\n",
      "tabla de multiplicar de 3\n",
      "3x0 = 0\n",
      "3x1 = 3\n",
      "3x2 = 6\n",
      "3x3 = 9\n",
      "3x4 = 12\n",
      "3x5 = 15\n",
      "3x6 = 18\n",
      "3x7 = 21\n",
      "3x8 = 24\n",
      "3x9 = 27\n",
      "tabla de multiplicar de 4\n",
      "4x0 = 0\n",
      "4x1 = 4\n",
      "4x2 = 8\n",
      "4x3 = 12\n",
      "4x4 = 16\n",
      "4x5 = 20\n",
      "4x6 = 24\n",
      "4x7 = 28\n",
      "4x8 = 32\n",
      "4x9 = 36\n",
      "tabla de multiplicar de 5\n",
      "5x0 = 0\n",
      "5x1 = 5\n",
      "5x2 = 10\n",
      "5x3 = 15\n",
      "5x4 = 20\n",
      "5x5 = 25\n",
      "5x6 = 30\n",
      "5x7 = 35\n",
      "5x8 = 40\n",
      "5x9 = 45\n",
      "tabla de multiplicar de 6\n",
      "6x0 = 0\n",
      "6x1 = 6\n",
      "6x2 = 12\n",
      "6x3 = 18\n",
      "6x4 = 24\n",
      "6x5 = 30\n",
      "6x6 = 36\n",
      "6x7 = 42\n",
      "6x8 = 48\n",
      "6x9 = 54\n",
      "tabla de multiplicar de 7\n",
      "7x0 = 0\n",
      "7x1 = 7\n",
      "7x2 = 14\n",
      "7x3 = 21\n",
      "7x4 = 28\n",
      "7x5 = 35\n",
      "7x6 = 42\n",
      "7x7 = 49\n",
      "7x8 = 56\n",
      "7x9 = 63\n",
      "tabla de multiplicar de 8\n",
      "8x0 = 0\n",
      "8x1 = 8\n",
      "8x2 = 16\n",
      "8x3 = 24\n",
      "8x4 = 32\n",
      "8x5 = 40\n",
      "8x6 = 48\n",
      "8x7 = 56\n",
      "8x8 = 64\n",
      "8x9 = 72\n",
      "tabla de multiplicar de 9\n",
      "9x0 = 0\n",
      "9x1 = 9\n",
      "9x2 = 18\n",
      "9x3 = 27\n",
      "9x4 = 36\n",
      "9x5 = 45\n",
      "9x6 = 54\n",
      "9x7 = 63\n",
      "9x8 = 72\n",
      "9x9 = 81\n",
      "tabla de multiplicar de 10\n",
      "10x0 = 0\n",
      "10x1 = 10\n",
      "10x2 = 20\n",
      "10x3 = 30\n",
      "10x4 = 40\n",
      "10x5 = 50\n",
      "10x6 = 60\n",
      "10x7 = 70\n",
      "10x8 = 80\n",
      "10x9 = 90\n"
     ]
    }
   ],
   "source": [
    "for i in range(1, 11):\n",
    "    print(f\"tabla de multiplicar de {i}\")\n",
    "    for k in range(10):\n",
    "        print(f\"{i}x{k} = {i*k}\")"
   ]
  },
  {
   "cell_type": "markdown",
   "metadata": {},
   "source": [
    "14. Crear un programa que muestre el eco de todo lo que el usuario introduzca\n",
    "hasta que el usuario escriba “salir” que terminará."
   ]
  },
  {
   "cell_type": "code",
   "execution_count": 22,
   "metadata": {},
   "outputs": [
    {
     "name": "stdout",
     "output_type": "stream",
     "text": [
      "mesa\n",
      "planta\n",
      "oso\n",
      "perr\n",
      "zebra\n"
     ]
    }
   ],
   "source": [
    "rta = input(\"Ingrese una palabra o escriba salir para finalizar: \")\n",
    "\n",
    "while rta != \"salir\":\n",
    "    print(rta)\n",
    "    rta = input(\"Ingrese una palabra o escriba salir para finalizar: \")"
   ]
  },
  {
   "cell_type": "code",
   "execution_count": 23,
   "metadata": {},
   "outputs": [
    {
     "name": "stdout",
     "output_type": "stream",
     "text": [
      "planta\n",
      "perro\n",
      "gato\n"
     ]
    }
   ],
   "source": [
    "while True:\n",
    "    rta = input(\"Ingrese una palabra o escriba salir para finalizar: \")\n",
    "    if rta == 'salir':\n",
    "        break\n",
    "    print(rta)"
   ]
  },
  {
   "cell_type": "markdown",
   "metadata": {},
   "source": [
    "15. Crear un programa que almacene las asignaturas de un curso (por ejemplo\n",
    "Matemáticas, Física, Química, Historia y Lengua) en una lista, pregunte al\n",
    "usuario la nota que ha sacado en cada asignatura, y después las muestre por\n",
    "pantalla con el mensaje En <asignatura> has sacado <nota> donde <asignatura>\n",
    "es cada una des las asignaturas de la lista y <nota> cada una de las\n",
    "correspondientes notas introducidas por el usuario.\n"
   ]
  },
  {
   "cell_type": "code",
   "execution_count": 26,
   "metadata": {},
   "outputs": [
    {
     "name": "stdout",
     "output_type": "stream",
     "text": [
      "En Matematicas ha sacado 10.0\n",
      "En Fisica ha sacado 8.0\n",
      "En Quimica ha sacado 10.0\n",
      "En Historia ha sacado 6.0\n",
      "En Lengua ha sacado 8.0\n"
     ]
    }
   ],
   "source": [
    "asignaturas = [\"Matematicas\", \"Fisica\", \"Quimica\", \"Historia\", \"Lengua\"]\n",
    "notas = {}\n",
    "\n",
    "for asignatura in asignaturas:\n",
    "    nota = float(input(f\"Ingrese la nota de {asignatura}: \"))\n",
    "    print(f\"En {asignatura} ha sacado {nota}\")\n",
    "    notas[asignatura] = nota"
   ]
  },
  {
   "cell_type": "code",
   "execution_count": 27,
   "metadata": {},
   "outputs": [
    {
     "name": "stdout",
     "output_type": "stream",
     "text": [
      "{'Matematicas': 10.0, 'Fisica': 8.0, 'Quimica': 10.0, 'Historia': 6.0, 'Lengua': 8.0}\n"
     ]
    }
   ],
   "source": [
    "print(notas)"
   ]
  },
  {
   "cell_type": "markdown",
   "metadata": {},
   "source": [
    "16. Crear un programa que guarde en una variable el diccionario {'Euro':'€',\n",
    "'Dollar':'$', 'Yen':'¥'}, pregunte al usuario por una divisa y muestre su símbolo o\n",
    "un mensaje de aviso si la divisa no está en el diccionario"
   ]
  },
  {
   "cell_type": "code",
   "execution_count": 32,
   "metadata": {},
   "outputs": [
    {
     "name": "stdout",
     "output_type": "stream",
     "text": [
      "La divisa Pesos no esta en el diccionario\n"
     ]
    }
   ],
   "source": [
    "divisas = {'Euro':'€',\n",
    "'Dollar':'$', 'Yen':'¥'}\n",
    "\n",
    "divisa = input(\"Ingrese una divisa: \").capitalize()\n",
    "\n",
    "if divisa in divisas:\n",
    "    print(divisas[divisa])\n",
    "else:\n",
    "    print(f\"La divisa {divisa} no esta en el diccionario\")\n"
   ]
  },
  {
   "cell_type": "markdown",
   "metadata": {},
   "source": [
    "17. Crear un programa que pida al usuario una letra e indique si es una vocal o no"
   ]
  },
  {
   "cell_type": "code",
   "execution_count": 34,
   "metadata": {},
   "outputs": [
    {
     "name": "stdout",
     "output_type": "stream",
     "text": [
      "f no es una vocal\n"
     ]
    }
   ],
   "source": [
    "letra = input(\"Ingrese una letra: \").lower()\n",
    "\n",
    "if letra in \"aeiou\":\n",
    "    print(f\"{letra} es una vocal\")\n",
    "else:\n",
    "    print(f\"{letra} no es una vocal\")"
   ]
  }
 ],
 "metadata": {
  "kernelspec": {
   "display_name": "Python 3",
   "language": "python",
   "name": "python3"
  },
  "language_info": {
   "codemirror_mode": {
    "name": "ipython",
    "version": 3
   },
   "file_extension": ".py",
   "mimetype": "text/x-python",
   "name": "python",
   "nbconvert_exporter": "python",
   "pygments_lexer": "ipython3",
   "version": "3.11.7"
  },
  "orig_nbformat": 4
 },
 "nbformat": 4,
 "nbformat_minor": 2
}
